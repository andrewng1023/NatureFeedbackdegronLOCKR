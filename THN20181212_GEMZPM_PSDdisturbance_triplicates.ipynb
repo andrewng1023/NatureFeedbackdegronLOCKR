{
 "cells": [
  {
   "cell_type": "code",
   "execution_count": 1,
   "metadata": {
    "collapsed": true
   },
   "outputs": [],
   "source": [
    "# compile triplicates for negative disturbance (PSD)\n",
    "# dilution, sample every 25 minutes"
   ]
  },
  {
   "cell_type": "code",
   "execution_count": 2,
   "metadata": {
    "collapsed": true
   },
   "outputs": [],
   "source": [
    "from FlowCytometryTools import *\n",
    "import numpy as np\n",
    "import pandas as pd\n",
    "import math\n",
    "import matplotlib\n",
    "import matplotlib.pyplot as plt\n",
    "import glob\n",
    "import seaborn as sns\n",
    "import pickle as pkl\n",
    "from scipy.interpolate import interp1d\n",
    "from scipy import stats\n",
    "\n",
    "import os\n",
    "import sys\n",
    "\n",
    "path = \"C:/Users/tayng/Documents/PythonScripts/cytometer\"\n",
    "\n",
    "if not path in sys.path:\n",
    "    sys.path.insert(1, path)\n",
    "    os.chdir(path)\n",
    "    from AHN_FlowTools import *\n",
    "del path\n",
    "\n",
    "sns.set_style('white')\n",
    "sns.set_style('ticks')\n",
    "%matplotlib inline\n",
    "\n",
    "os.chdir(\"C:/Users/tayng/Documents/PythonScripts/cytometer/CAGEKEY\")"
   ]
  },
  {
   "cell_type": "code",
   "execution_count": 3,
   "metadata": {
    "collapsed": true
   },
   "outputs": [],
   "source": [
    "# update data directory\n",
    "datadir = os.path.normpath(\"C:/Users/tayng/Documents/Data/cytometer/CAGEKEY/THN20181212_GEMZPM_PSDdisturbance_triplicates/\")+os.sep\n",
    " \n",
    "allfiles = {}\n",
    "date1 = '20180806'\n",
    "date2 = '20180820'\n",
    "date3 = '20181211'\n",
    "\n",
    "experiment = [date1, date2, date3]\n",
    "date = '20180806'\n",
    "\n",
    "for idx, exp in enumerate(experiment): \n",
    "    filepath = datadir + os.sep +'*.fcs'\n",
    "    files = glob.glob(filepath)\n",
    "    assert len(files)>0, \"No filenames recovered - check file path: \" + filepath\n",
    "    allfiles[exp] = [files[idx]]"
   ]
  },
  {
   "cell_type": "code",
   "execution_count": 4,
   "metadata": {
    "collapsed": true,
    "scrolled": true
   },
   "outputs": [],
   "source": [
    "allexp = {}\n",
    "\n",
    "for exp in experiment: # iterate through experiments (fcs files)\n",
    "    for f in allfiles[exp]:\n",
    "        allexp[exp] = FCMeasurement(ID = exp, datafile = f)\n",
    "        \n",
    "    allexp[exp].data = allexp[exp].data.loc[:, ['Time','SSC-H','FITC-H','mCherry-H','FSC-H']]"
   ]
  },
  {
   "cell_type": "code",
   "execution_count": 5,
   "metadata": {
    "collapsed": true,
    "scrolled": true
   },
   "outputs": [],
   "source": [
    "# settings\n",
    "og_num = 1;        # number of outgrowth timepoints\n",
    "samp_pd = 25;      # length of time b/w samples in min\n",
    "summary_idx  = 1   # check summaryfile from labview\n",
    "tot_reactors = pd.Series(range(1,9)) \n",
    "\n",
    "# read summary file\n",
    "summaryfilepath = {}\n",
    "summaryfile = {}\n",
    "paths = {}\n",
    "tot_timepoints = {}\n",
    "paths[date1] = \"THN20180806_summaryfile.csv\"\n",
    "paths[date2] = \"THN20180820_summaryfile.csv\"\n",
    "paths[date3] = \"THN20181211_summaryfile.csv\"\n",
    "\n",
    "for exp in experiment:\n",
    "    summaryfilepath[exp] = os.path.normpath(datadir + paths[exp])\n",
    "    summaryfile[exp] = pd.read_csv(summaryfilepath[exp], names=['timepoint','valve','start','end'])\n",
    "    summaryfile[exp]['valve'] = summaryfile[exp]['valve'].astype(int)\n",
    "    summaryfile[exp]['timepoint'] = summaryfile[exp]['timepoint'].astype(int)\n",
    "\n",
    "tot_timepoints = pd.Series(range(0,49))\n",
    "\n",
    "# create sample_order (valve # : order #)\n",
    "valves = [5, 4, 7, 6, 11, 12, 2, 1]\n",
    "order = [1, 2, 3, 4, 5, 6, 7, 8] # update\n",
    "sample_order = {}\n",
    "\n",
    "for i in range(len(valves)):\n",
    "    sample_order[valves[i]] = order[i]\n"
   ]
  },
  {
   "cell_type": "code",
   "execution_count": 6,
   "metadata": {
    "collapsed": true
   },
   "outputs": [],
   "source": [
    "# legend \n",
    "labels = ['CL: no disturbance',\n",
    "          'CL: 1.56',\n",
    "          'CL: 3.13',\n",
    "          'CL: 6.25',\n",
    "          'OL: no disturbance',\n",
    "          'OL: 1.56',\n",
    "          'OL: 3.13',\n",
    "          'OL: 6.25'];"
   ]
  },
  {
   "cell_type": "code",
   "execution_count": 7,
   "metadata": {
    "collapsed": true,
    "scrolled": true
   },
   "outputs": [],
   "source": [
    "# create binned_data\n",
    "binned_data = {}\n",
    "for exp in experiment:\n",
    "    binned_data[exp] = pd.DataFrame(index=tot_reactors,columns=tot_timepoints)\n",
    "\n",
    "for exp in experiment:\n",
    "    for i, row in enumerate(summaryfile[exp].values): # iterate through summary file\n",
    "        d = allexp[exp].data[allexp[exp].data.Time.between(summaryfile[exp].iloc[i,2],summaryfile[exp].iloc[i,3])]\n",
    "        timepoint = summaryfile[exp].iloc[i,0] - summary_idx \n",
    "        if timepoint < 49:\n",
    "            reactor_num = sample_order[summaryfile[exp].iloc[i,1]] # sample order gives the order of reactor (indexed at valve num)\n",
    "            binned_data[exp].set_value(reactor_num, timepoint, d)"
   ]
  },
  {
   "cell_type": "markdown",
   "metadata": {},
   "source": [
    "# Plot some things!!! "
   ]
  },
  {
   "cell_type": "code",
   "execution_count": 8,
   "metadata": {
    "collapsed": true
   },
   "outputs": [],
   "source": [
    "# delete outgrowth timepoint(s)\n",
    "t = (tot_timepoints*samp_pd)/60.0 \n",
    "t_cut = t[0:49]\n",
    "t_half = t[20:50]-10.0\n"
   ]
  },
  {
   "cell_type": "code",
   "execution_count": 9,
   "metadata": {
    "collapsed": true
   },
   "outputs": [],
   "source": [
    "def get_color():\n",
    "    color=iter(sns.color_palette('hls',8))\n",
    "    return(color)\n",
    "\n",
    "def get_YFP_color():\n",
    "    CL_color = iter(sns.color_palette(sns.color_palette(\"PuBu_r\", 4)))\n",
    "    return(CL_color)"
   ]
  },
  {
   "cell_type": "markdown",
   "metadata": {},
   "source": [
    "# plot norm data"
   ]
  },
  {
   "cell_type": "code",
   "execution_count": 10,
   "metadata": {
    "collapsed": true
   },
   "outputs": [],
   "source": [
    "def get_norm_data(exp, reactor_num, timepoint, datatype):\n",
    "    tp_data = binned_data[exp].loc[reactor_num, timepoint]\n",
    "    tp_data = tp_data[tp_data[datatype] > 0] # filter out cells that have no FITC output\n",
    "    tp_data = tp_data[tp_data['SSC-H'] > 1000]\n",
    "    \n",
    "    tot_events = tp_data.size\n",
    "    time = np.median(tp_data.loc[:,'Time'])\n",
    "    reading = tp_data.loc[:, datatype]\n",
    "    \n",
    "    raw_data = np.median(reading)\n",
    "    ssc = tp_data.loc[:,'SSC-H']\n",
    "    d = pd.Series(reading/ssc)\n",
    "            \n",
    "    d.dropna(how='any')    #to drop if all values in the row are nan\n",
    "    yerr = np.std(d)\n",
    "    d = np.median(d)\n",
    "    return(d, raw_data, time, yerr)"
   ]
  },
  {
   "cell_type": "code",
   "execution_count": 11,
   "metadata": {
    "collapsed": true
   },
   "outputs": [],
   "source": [
    "# get normalized data data\n",
    "rows = tot_reactors\n",
    "cols = tot_timepoints\n",
    "empty = pd.DataFrame(index = rows, columns = cols)\n",
    "\n",
    "FITC = {}\n",
    "mCherry = {}\n",
    "for exp in experiment:\n",
    "    FITC[exp] = pd.Panel({'time':empty, 'raw':empty, 'med':empty, 'sd':empty, 'ravg':empty})\n",
    "    mCherry[exp] = pd.Panel({'time':empty, 'raw':empty, 'med':empty, 'sd':empty, 'ravg':empty})\n",
    "\n",
    "    for reactor_num in tot_reactors:    \n",
    "        for timepoint in tot_timepoints:\n",
    "        \n",
    "            data, raw_data, time, yerr = get_norm_data(exp, reactor_num, timepoint, 'FITC-H')\n",
    "            FITC[exp].time.set_value(reactor_num, timepoint, time)\n",
    "            FITC[exp].raw.set_value(reactor_num, timepoint, raw_data)\n",
    "            FITC[exp].med.set_value(reactor_num, timepoint, data)\n",
    "            FITC[exp].sd.set_value(reactor_num, timepoint, yerr)\n",
    "            FITC[exp].ravg.set_value(reactor_num, timepoint, yerr)\n",
    "        \n",
    "            data, raw_data, time, yerr = get_norm_data(exp, reactor_num, timepoint, 'mCherry-H')\n",
    "            mCherry[exp].time.set_value(reactor_num, timepoint, time)\n",
    "            mCherry[exp].raw.set_value(reactor_num, timepoint, raw_data)\n",
    "            mCherry[exp].med.set_value(reactor_num, timepoint, data)\n",
    "            mCherry[exp].sd.set_value(reactor_num, timepoint, yerr)\n",
    "            mCherry[exp].ravg.set_value(reactor_num, timepoint, yerr)\n"
   ]
  },
  {
   "cell_type": "code",
   "execution_count": 12,
   "metadata": {
    "collapsed": true
   },
   "outputs": [],
   "source": [
    "# get mean and sd data\n",
    "FITC_all = {}\n",
    "FITC_all = pd.Panel({'time':empty, 'med':empty, 'sd':empty, 'ravg':empty})\n",
    "\n",
    "reactors_to_plot = {}\n",
    "reactors_to_plot[date1] = [2, 6, 4, 8];\n",
    "reactors_to_plot[date2] = [1, 4, 5, 8];\n",
    "reactors_to_plot[date3] = [1, 2, 5, 6];\n",
    "\n",
    "for i in range(4):\n",
    "    for timepoint in tot_timepoints:\n",
    "        \n",
    "        d1 = FITC[date1].med.loc[reactors_to_plot[date1][i], timepoint]\n",
    "        d2 = FITC[date2].med.loc[reactors_to_plot[date2][i], timepoint]\n",
    "        d3 = FITC[date3].med.loc[reactors_to_plot[date3][i], timepoint]\n",
    "        \n",
    "        davg = np.mean([d1, d2, d3], dtype=np.float64)\n",
    "        dyerr = np.std([d1, d2, d3], dtype=np.float64)\n",
    "\n",
    "        FITC_all.med.set_value(i+1, timepoint, davg)\n",
    "        FITC_all.sd.set_value(i+1, timepoint, dyerr)"
   ]
  },
  {
   "cell_type": "code",
   "execution_count": 13,
   "metadata": {},
   "outputs": [
    {
     "name": "stderr",
     "output_type": "stream",
     "text": [
      "C:\\Users\\tayng\\Anaconda2\\lib\\site-packages\\ipykernel_launcher.py:5: FutureWarning: pd.rolling_mean is deprecated for Series and will be removed in a future version, replace with \n",
      "\tSeries.rolling(window=3,center=True).mean()\n",
      "  \"\"\"\n"
     ]
    }
   ],
   "source": [
    "def rolling_mean(readout, reactor_num, N):\n",
    "    t_last = len(t)-1\n",
    "\n",
    "    if readout == 'FITC-H':\n",
    "        ravg = pd.rolling_mean(FITC_all.med.loc[reactor_num, :], N, center=True)\n",
    "        ravg[0] = (FITC_all.med.loc[reactor_num, 0]+FITC_all.med.loc[reactor_num, 1])/2\n",
    "        ravg[t_last] = (FITC_all.med.loc[reactor_num, t_last-1]+FITC_all.med.loc[reactor_num, t_last])/2\n",
    "        \n",
    "    return(ravg)\n",
    "\n",
    "window = 3;\n",
    "for reactor_num in range(1,9):\n",
    "    FITC_all.ravg.loc[reactor_num, :] = rolling_mean('FITC-H',reactor_num, window)\n"
   ]
  },
  {
   "cell_type": "markdown",
   "metadata": {},
   "source": [
    "# plot on log10 yscale"
   ]
  },
  {
   "cell_type": "code",
   "execution_count": 14,
   "metadata": {},
   "outputs": [
    {
     "data": {
      "image/png": "[encoded data removed]",
      "text/plain": [
       "<matplotlib.figure.Figure at 0x44986080>"
      ]
     },
     "metadata": {},
     "output_type": "display_data"
    }
   ],
   "source": [
    "# plot on log 10 scale output over time\n",
    "# rep 2\n",
    "fig, ax = plt.subplots(1, 2, sharex = True, sharey = 'row', figsize = (13, 3.5))\n",
    "YFP_color = get_YFP_color()\n",
    "YFP_color_OL = get_YFP_color()\n",
    "\n",
    "for k in range (1):\n",
    "    c_YFP = next(YFP_color)\n",
    "    c_YFP_OL = next(YFP_color_OL)\n",
    "\n",
    "ms = 5\n",
    "lw = 1.5\n",
    "mew = 1\n",
    "cs = 2\n",
    "ct = 1\n",
    "\n",
    "for reactor_num in tot_reactors: \n",
    "    if reactor_num == 2:\n",
    "        ax[0].errorbar(t[1:49], FITC_all.med.loc[reactor_num, 1:49], FITC_all.sd.loc[reactor_num, 1:49], elinewidth=1, linestyle='none', marker='o', markersize=ms, capsize=cs, capthick=ct, color = 'grey')\n",
    "        ax[0].plot(t[1:49], FITC_all.ravg.loc[reactor_num, 1:49], label='_nolegend_', linewidth = lw, color='grey')\n",
    "\n",
    "    if reactor_num == 1:\n",
    "        c_YFP = next(YFP_color)\n",
    "        ax[0].errorbar(t[1:49], FITC_all.med.loc[reactor_num, 1:49], FITC_all.sd.loc[reactor_num, 1:49], elinewidth=1, linestyle='none', marker='o', markersize=ms, capsize=cs, capthick=ct, color = c_YFP)\n",
    "        ax[0].plot(t[1:49], FITC_all.ravg.loc[reactor_num, 1:49], label='_nolegend_', linewidth = lw, color=c_YFP)\n",
    "\n",
    "    if reactor_num == 4:\n",
    "        ax[1].errorbar(t[1:49], FITC_all.med.loc[reactor_num, 1:49], FITC_all.sd.loc[reactor_num, 1:49], elinewidth=1, linestyle='none', marker='o', capsize=cs, capthick=ct, color = 'grey', markersize = 5, markeredgewidth=1, markerfacecolor = 'none', markeredgecolor='grey')\n",
    "        ax[1].plot(t[1:49], FITC_all.ravg.loc[reactor_num, 1:49], label='_nolegend_', linewidth = lw, color='grey')\n",
    "\n",
    "    if reactor_num == 3: \n",
    "        c_YFP_OL = next(YFP_color_OL)\n",
    "        ax[1].errorbar(t[1:49], FITC_all.med.loc[reactor_num, 1:49], FITC_all.sd.loc[reactor_num, 1:49], elinewidth=1, linestyle='none', marker='o', capsize=cs, capthick=ct, color = c_YFP_OL, markersize = 5, markeredgewidth=1, markerfacecolor = 'none', markeredgecolor=c_YFP_OL)\n",
    "        ax[1].plot(t[1:49], FITC_all.ravg.loc[reactor_num, 1:49], label='_nolegend_', linewidth = lw, color=c_YFP_OL)\n",
    "\n",
    "ax[0].set_ylabel('Normalized YFP')\n",
    "ax[0].set_title('Closed loop') \n",
    "ax[1].set_title('Open loop') \n",
    "ax[0].set_ylim([0.12, .9])\n",
    "\n",
    "for i in range(2):\n",
    "    ax[i].set_yscale('log')\n",
    "    ax[i].legend(['light','control'],loc='upper left')\n",
    "\n",
    "    ax[i].spines['right'].set_visible(False)\n",
    "    ax[i].spines['top'].set_visible(False)\n",
    "    ax[i].set_xlabel('Time (hrs)')\n",
    "\n",
    "dest = datadir + 'pyfig\\\\' + date + '_log10scaleoutput_compareDose'\n",
    "plt.savefig(dest + '.png', bbox_inches='tight',dpi=300)\n",
    "plt.savefig(dest + '.svg', bbox_inches='tight',dpi=300)\n",
    "plt.show()\n",
    "plt.close()"
   ]
  },
  {
   "cell_type": "code",
   "execution_count": 15,
   "metadata": {},
   "outputs": [
    {
     "data": {
      "image/png": "[encoded data removed]",
      "text/plain": [
       "<matplotlib.figure.Figure at 0x3b03d860>"
      ]
     },
     "metadata": {},
     "output_type": "display_data"
    }
   ],
   "source": [
    "# plot on log 10 scale output over time\n",
    "\n",
    "fig, ax = plt.subplots(2, 1, sharex = True, sharey = True, figsize = (2, 3.))\n",
    "YFP_color = get_YFP_color()\n",
    "YFP_color_OL = get_YFP_color()\n",
    "\n",
    "for k in range (1):\n",
    "    c_YFP = next(YFP_color)\n",
    "    c_YFP_OL = next(YFP_color_OL)\n",
    "\n",
    "ms = 3; lw = 1. ; mew = 1; cs = 1.5; ct = 1;\n",
    "\n",
    "for reactor_num in tot_reactors: \n",
    "    if reactor_num == 2:\n",
    "        ax[0].errorbar(t_half, FITC_all.med.loc[reactor_num, 20:50], FITC_all.sd.loc[reactor_num, 20:50], elinewidth=1, \n",
    "                       linestyle='none', marker='o', markersize=ms, capsize=cs, capthick=ct, color = 'grey')\n",
    "        ax[0].plot(t_half, FITC_all.ravg.loc[reactor_num, 20:50], label='_nolegend_', linewidth = lw, color='grey')\n",
    "\n",
    "    if reactor_num == 1:\n",
    "        c_YFP = next(YFP_color)\n",
    "        ax[0].errorbar(t_half, FITC_all.med.loc[reactor_num, 20:50], FITC_all.sd.loc[reactor_num, 20:50], elinewidth=1, \n",
    "                       linestyle='none', marker='o', markersize=ms, capsize=cs, capthick=ct, color = c_YFP)\n",
    "        ax[0].plot(t_half, FITC_all.ravg.loc[reactor_num, 20:50], label='_nolegend_', linewidth = lw, color=c_YFP)\n",
    "\n",
    "    if reactor_num == 4:\n",
    "        ax[1].errorbar(t_half, FITC_all.med.loc[reactor_num, 20:50], FITC_all.sd.loc[reactor_num, 20:50], elinewidth=1, \n",
    "                       linestyle='none', marker='o', capsize=cs, capthick=ct, color = 'grey', markersize = ms, \n",
    "                       markeredgewidth=mew, markerfacecolor = 'none', markeredgecolor='grey')\n",
    "        ax[1].plot(t_half, FITC_all.ravg.loc[reactor_num, 20:50], label='_nolegend_', linewidth = lw, color='grey')\n",
    "\n",
    "    if reactor_num == 3: \n",
    "        c_YFP_OL = next(YFP_color_OL)\n",
    "        ax[1].errorbar(t_half, FITC_all.med.loc[reactor_num, 20:50], FITC_all.sd.loc[reactor_num, 20:50], elinewidth=1, \n",
    "                       linestyle='none', marker='o', capsize=cs, capthick=ct, color = c_YFP_OL, markersize = ms, \n",
    "                       markeredgewidth=mew, markerfacecolor = 'none', markeredgecolor=c_YFP_OL)\n",
    "        ax[1].plot(t_half, FITC_all.ravg.loc[reactor_num, 20:50], label='_nolegend_', linewidth = lw, color=c_YFP_OL)\n",
    "\n",
    "#ax[0].set_ylabel('Normalized YFP')\n",
    "#ax[0].set_title('Closed loop') \n",
    "#ax[1].set_title('Open loop') \n",
    "#ax[0].set_ylim([0.16, .65])\n",
    "\n",
    "ax[1].set_xticks(np.arange(-2, 12, step=2))\n",
    "\n",
    "for i in range(2):\n",
    "    ax[i].set_ylim([.15, .6])\n",
    "    ax[i].set_yscale('log')\n",
    "    #ax[i].legend(['light','control'],loc='upper left')\n",
    "\n",
    "    ax[i].spines['right'].set_visible(False)\n",
    "    ax[i].spines['top'].set_visible(False)\n",
    "    #ax[i].set_xlabel('Time (hrs)')\n",
    "\n",
    "dest = datadir + 'pyfig\\\\' + date + '_log10scaleoutput_cropped'\n",
    "plt.savefig(dest + '.png', bbox_inches='tight',dpi=300)\n",
    "plt.savefig(dest + '.svg', bbox_inches='tight',dpi=300)\n",
    "plt.show()\n",
    "plt.close()"
   ]
  },
  {
   "cell_type": "code",
   "execution_count": 16,
   "metadata": {
    "collapsed": true
   },
   "outputs": [],
   "source": [
    "# get mean and sd data\n",
    "ssFITC = {}\n",
    "empty = pd.DataFrame(index = range(1,4), columns = range(1,4)) # columns are triplicates\n",
    "ssFITC = pd.Panel({'avg':empty, 'precision':empty})\n",
    "\n",
    "reactors_to_plot[date1] = [2, 6, 4, 8];\n",
    "reactors_to_plot[date2] = [1, 4, 5, 8];\n",
    "reactors_to_plot[date3] = [1, 2, 5, 6];\n",
    "\n",
    "for i in range(4):\n",
    "        \n",
    "    d1 = np.mean(FITC[date1].med.loc[reactors_to_plot[date1][i], 43:49]);\n",
    "    d2 = np.mean(FITC[date2].med.loc[reactors_to_plot[date2][i], 43:49]);\n",
    "    d3 = np.mean(FITC[date3].med.loc[reactors_to_plot[date3][i], 43:49]);\n",
    "\n",
    "    ssFITC.avg.set_value(i+1, 1, d1)\n",
    "    ssFITC.avg.set_value(i+1, 2, d2)\n",
    "    ssFITC.avg.set_value(i+1, 3, d3)\n",
    "\n",
    "\n",
    "# rows\n",
    "# 1 Cl\n",
    "# 2 CL ctrl\n",
    "# 3 OL\n",
    "# 4 OL ctrl\n"
   ]
  },
  {
   "cell_type": "code",
   "execution_count": 18,
   "metadata": {},
   "outputs": [
    {
     "name": "stderr",
     "output_type": "stream",
     "text": [
      "C:\\Users\\tayng\\Anaconda2\\lib\\site-packages\\ipykernel_launcher.py:18: RuntimeWarning: divide by zero encountered in double_scalars\n"
     ]
    }
   ],
   "source": [
    "# get precision measurements\n",
    "\n",
    "for j in range(1,4): # iterate through triplicates\n",
    "    for reactor_num in range(1,5): #iterate through reactors \n",
    "    \n",
    "        # no disturbance value\n",
    "        CL_NoDisturbance = ssFITC.avg.loc[2, j]; \n",
    "        OL_NoDisturbance = ssFITC.avg.loc[4, j];\n",
    "    \n",
    "        disturbance = ssFITC.avg.loc[reactor_num, j];\n",
    "\n",
    "        if reactor_num == 1 or reactor_num == 2: \n",
    "            error = np.abs((disturbance-CL_NoDisturbance)/CL_NoDisturbance);\n",
    "        \n",
    "        elif reactor_num == 3 or reactor_num == 4:\n",
    "            error = np.abs((disturbance-OL_NoDisturbance)/OL_NoDisturbance);\n",
    "        \n",
    "        precision = (error)**-1;\n",
    "        ssFITC.precision.set_value(reactor_num, j, precision)\n"
   ]
  },
  {
   "cell_type": "code",
   "execution_count": 19,
   "metadata": {},
   "outputs": [
    {
     "name": "stderr",
     "output_type": "stream",
     "text": [
      "C:\\Users\\tayng\\Anaconda2\\lib\\site-packages\\numpy\\core\\_methods.py:112: RuntimeWarning: invalid value encountered in subtract\n",
      "  x = asanyarray(arr - arrmean)\n"
     ]
    }
   ],
   "source": [
    "ssFITCprecision = {}\n",
    "empty = pd.DataFrame(index = rows, columns = [0]) # columns are triplicates\n",
    "ssFITCprecision = pd.Panel({'avg':empty, 'sd':empty})\n",
    "\n",
    "for reactor_num in range(1,5):\n",
    "        \n",
    "    d1 = ssFITC.precision.loc[reactor_num, 1];\n",
    "    d2 = ssFITC.precision.loc[reactor_num, 2];\n",
    "    d3 = ssFITC.precision.loc[reactor_num, 3];\n",
    "    \n",
    "    davg = np.mean([d1, d2, d3], dtype=np.float64)\n",
    "    dyerr = np.std([d1, d2, d3], dtype=np.float64)\n",
    "\n",
    "    ssFITCprecision.avg.set_value(reactor_num, 0, davg)\n",
    "    ssFITCprecision.sd.set_value(reactor_num, 0, dyerr)"
   ]
  },
  {
   "cell_type": "code",
   "execution_count": 24,
   "metadata": {},
   "outputs": [
    {
     "name": "stdout",
     "output_type": "stream",
     "text": [
      "0.0220570754565\n"
     ]
    },
    {
     "data": {
      "image/png": "[encoded data removed]",
      "text/plain": [
       "<matplotlib.figure.Figure at 0x3a886b00>"
      ]
     },
     "metadata": {},
     "output_type": "display_data"
    }
   ],
   "source": [
    "# plot precision\n",
    "fig, ax = plt.subplots(figsize = (.4, 1.2))\n",
    "ax = plt.subplot(111)\n",
    "\n",
    "index = np.arange(1)\n",
    "bar_width = 1.5;\n",
    "cs = 1;\n",
    "ct = 1;\n",
    "space = np.array([0.2,0.5,0.8]);\n",
    "lwidth = 0.5;\n",
    "mwidth = 0.3;\n",
    "size = 4;\n",
    "\n",
    "CL_barlist = ax.bar(index, ssFITCprecision.avg.loc[1, 0], bar_width, label='Closed loop', \n",
    "                    yerr = ssFITCprecision.sd.loc[1, 0], linewidth = lwidth, \n",
    "                    error_kw=dict(lw=lwidth, capsize = cs, capthick = ct), color='y', fill=False)\n",
    "OL_barlist = ax.bar(index + bar_width, ssFITCprecision.avg.loc[3, 0], bar_width, label='Open loop',\n",
    "                    yerr = ssFITCprecision.sd.loc[3, 0], linewidth = lwidth,\n",
    "                    error_kw=dict(lw=lwidth, capsize = cs, capthick = ct), color='y', fill=False)\n",
    "\n",
    "# add the individual data points\n",
    "idx=1;\n",
    "for i in range(3): # closed loop reactors\n",
    "    x = space[i]*bar_width-bar_width/2\n",
    "    CL_scatter = ax.scatter(x, ssFITC.precision.loc[1, i+1], \n",
    "                            color='none', edgecolor = 'black', linewidth = mwidth, s=size)\n",
    "for i in range(3): # open loop reactors\n",
    "    x = space[i]*bar_width+bar_width/2\n",
    "    OL_scatter = ax.scatter(x, ssFITC.precision.loc[3, i+1], \n",
    "                               color='none', edgecolor = 'black', linewidth = mwidth, s =size)\n",
    "\n",
    "# two sided t-test\n",
    "t1 = ssFITC.avg.loc[1, 1:3];\n",
    "t2 = ssFITC.avg.loc[3, 1:3];\n",
    "t, p = stats.ttest_ind(t1, t2)\n",
    "print(p)\n",
    "\n",
    "YFP_color = get_YFP_color()\n",
    "YFP_color_OL = get_YFP_color()\n",
    "c_YFP = next(YFP_color)\n",
    "c_YFP_OL = next(YFP_color_OL)\n",
    "\n",
    "for i in range(1):\n",
    "    c_YFP = next(YFP_color)\n",
    "    CL_barlist[i].set_color(c_YFP)\n",
    "    OL_barlist[i].set_color(c_YFP)\n",
    "    OL_barlist[i].set_hatch('/')\n",
    "\n",
    "ax.set_ylim([0, 5.0])\n",
    "ax.set_xticks(index + bar_width / 2)\n",
    "#ax.legend()\n",
    "\n",
    "ax.spines['right'].set_visible(False)\n",
    "ax.spines['top'].set_visible(False)\n",
    "\n",
    "dest = datadir + 'pyfig\\\\' + date + '_precision'\n",
    "plt.savefig(dest + '.png', bbox_inches='tight',dpi=300)\n",
    "plt.savefig(dest + '.svg', bbox_inches='tight',dpi=300)\n",
    "\n",
    "plt.show()\n",
    "plt.close()"
   ]
  },
  {
   "cell_type": "code",
   "execution_count": null,
   "metadata": {
    "collapsed": true
   },
   "outputs": [],
   "source": [
    "# plot on linear scale output over time\n",
    "\n",
    "fig, ax = plt.subplots(2, 1, sharex = True, sharey = True, figsize = (2, 3.))\n",
    "YFP_color = get_YFP_color()\n",
    "YFP_color_OL = get_YFP_color()\n",
    "\n",
    "for k in range (1):\n",
    "    c_YFP = next(YFP_color)\n",
    "    c_YFP_OL = next(YFP_color_OL)\n",
    "\n",
    "ms = 5\n",
    "lw = 1.5\n",
    "mew = 1\n",
    "cs = 2\n",
    "ct = 1\n",
    "\n",
    "for reactor_num in tot_reactors: \n",
    "    if reactor_num == 2:\n",
    "        ax[0].errorbar(t_half[0:28], FITC_all.med.loc[reactor_num, 21:49], FITC_all.sd.loc[reactor_num, 21:49], elinewidth=1, linestyle='none', marker='o', markersize=ms, capsize=cs, capthick=ct, color = 'grey')\n",
    "        ax[0].plot(t_half[0:28], FITC_all.ravg.loc[reactor_num, 21:49], label='_nolegend_', linewidth = lw, color='grey')\n",
    "\n",
    "    if reactor_num == 1:\n",
    "        c_YFP = next(YFP_color)\n",
    "        ax[0].errorbar(t_half[0:28], FITC_all.med.loc[reactor_num, 21:49], FITC_all.sd.loc[reactor_num, 21:49], elinewidth=1, linestyle='none', marker='o', markersize=ms, capsize=cs, capthick=ct, color = c_YFP)\n",
    "        ax[0].plot(t_half[0:28], FITC_all.ravg.loc[reactor_num, 21:49], label='_nolegend_', linewidth = lw, color=c_YFP)\n",
    "\n",
    "    if reactor_num == 4:\n",
    "        ax[1].errorbar(t_half[0:28], FITC_all.med.loc[reactor_num, 21:49], FITC_all.sd.loc[reactor_num, 21:49], elinewidth=1, linestyle='none', marker='o', capsize=cs, capthick=ct, color = 'grey', markersize = 5, markeredgewidth=1, markerfacecolor = 'none', markeredgecolor='grey')\n",
    "        ax[1].plot(t_half[0:28], FITC_all.ravg.loc[reactor_num, 21:49], label='_nolegend_', linewidth = lw, color='grey')\n",
    "\n",
    "    if reactor_num == 3: \n",
    "        c_YFP_OL = next(YFP_color_OL)\n",
    "        ax[1].errorbar(t_half[0:28], FITC_all.med.loc[reactor_num, 21:49], FITC_all.sd.loc[reactor_num, 21:49], elinewidth=1, linestyle='none', marker='o', capsize=cs, capthick=ct, color = c_YFP_OL, markersize = 5, markeredgewidth=1, markerfacecolor = 'none', markeredgecolor=c_YFP_OL)\n",
    "        ax[1].plot(t_half[0:28], FITC_all.ravg.loc[reactor_num, 21:49], label='_nolegend_', linewidth = lw, color=c_YFP_OL)\n",
    "\n",
    "ax[0].set_ylabel('Normalized YFP')\n",
    "ax[0].set_title('Closed loop') \n",
    "ax[1].set_title('Open loop') \n",
    "ax[0].set_ylim([0.16, .5])\n",
    "\n",
    "for i in range(2):\n",
    "    ax[i].legend(['light','control'],loc='upper left')\n",
    "\n",
    "    ax[i].spines['right'].set_visible(False)\n",
    "    ax[i].spines['top'].set_visible(False)\n",
    "    ax[i].set_xlabel('Time (hrs)')\n",
    "\n",
    "dest = datadir + 'pyfig\\\\' + date + '_linear_cropped'\n",
    "plt.savefig(dest + '.png', bbox_inches='tight',dpi=300)\n",
    "plt.savefig(dest + '.svg', bbox_inches='tight',dpi=300)\n",
    "plt.show()\n",
    "plt.close()"
   ]
  },
  {
   "cell_type": "code",
   "execution_count": 22,
   "metadata": {},
   "outputs": [
    {
     "data": {
      "image/png": "[encoded data removed]",
      "text/plain": [
       "<matplotlib.figure.Figure at 0x5eda630>"
      ]
     },
     "metadata": {},
     "output_type": "display_data"
    }
   ],
   "source": [
    "# individual experiments\n",
    "# plot on log 10 scale output over time\n",
    "# rep 2\n",
    "fig, ax = plt.subplots(1, 3, sharex = True, sharey = 'row', figsize = (13, 3.5))\n",
    "\n",
    "ms = 5; lw = 1.5; mew = 1; cs = 2; ct = 1;\n",
    "\n",
    "reactors_to_plot[date1] = [2, 6, 4, 8];\n",
    "reactors_to_plot[date2] = [1, 4, 5, 8];\n",
    "reactors_to_plot[date3] = [1, 2, 5, 6];\n",
    "\n",
    "\n",
    "for i, exp in enumerate(experiment):\n",
    "    YFP_color = get_YFP_color()\n",
    "\n",
    "    for j in range(4):\n",
    "        reactor_num = reactors_to_plot[exp][j]\n",
    "        ax[i].plot(t_cut[0:48], FITC[exp].med.loc[reactor_num, 1:48], marker='o', markersize=ms, color = c_YFP)\n",
    "        c_YFP = next(YFP_color)\n",
    "\n",
    "ax[0].set_ylabel('Normalized YFP')\n",
    "ax[0].set_title('Closed loop') \n",
    "ax[1].set_title('Open loop') \n",
    "ax[0].set_ylim([0.12, .9])\n",
    "\n",
    "for i in range(3):\n",
    "    ax[i].set_yscale('log')\n",
    "    ax[i].legend(['light','control'],loc='upper left')\n",
    "\n",
    "    ax[i].spines['right'].set_visible(False)\n",
    "    ax[i].spines['top'].set_visible(False)\n",
    "    ax[i].set_xlabel('Time (hrs)')\n",
    "\n",
    "dest = datadir + 'pyfig\\\\' + date + '_log10scaleoutput_individual'\n",
    "plt.savefig(dest + '.png', bbox_inches='tight',dpi=300)\n",
    "plt.savefig(dest + '.svg', bbox_inches='tight',dpi=300)\n",
    "plt.show()\n",
    "plt.close()"
   ]
  }
 ],
 "metadata": {
  "kernelspec": {
   "display_name": "Python 2",
   "language": "python",
   "name": "python2"
  },
  "language_info": {
   "codemirror_mode": {
    "name": "ipython",
    "version": 2
   },
   "file_extension": ".py",
   "mimetype": "text/x-python",
   "name": "python",
   "nbconvert_exporter": "python",
   "pygments_lexer": "ipython2",
   "version": "2.7.13"
  }
 },
 "nbformat": 4,
 "nbformat_minor": 2
}

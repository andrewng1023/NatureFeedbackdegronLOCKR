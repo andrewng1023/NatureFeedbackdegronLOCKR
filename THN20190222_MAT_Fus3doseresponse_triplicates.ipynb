{
 "cells": [
  {
   "cell_type": "code",
   "execution_count": 1,
   "metadata": {
    "collapsed": true
   },
   "outputs": [],
   "source": [
    "# compile triplicates\n",
    "# dilution, sample every 25 minutes"
   ]
  },
  {
   "cell_type": "code",
   "execution_count": 2,
   "metadata": {
    "collapsed": true
   },
   "outputs": [],
   "source": [
    "from FlowCytometryTools import *\n",
    "import numpy as np\n",
    "import pandas as pd\n",
    "import math\n",
    "import matplotlib\n",
    "import matplotlib.pyplot as plt\n",
    "import glob\n",
    "import seaborn as sns\n",
    "import pickle as pkl\n",
    "from scipy.interpolate import interp1d\n",
    "from scipy import stats\n",
    "\n",
    "import os\n",
    "import sys\n",
    "\n",
    "path = \"C:/Users/tayng/Documents/PythonScripts/cytometer\"\n",
    "\n",
    "if not path in sys.path:\n",
    "    sys.path.insert(1, path)\n",
    "    os.chdir(path)\n",
    "    from AHN_FlowTools import *\n",
    "del path\n",
    "\n",
    "sns.set_style('white')\n",
    "sns.set_style('ticks')\n",
    "%matplotlib inline\n",
    "\n",
    "os.chdir(\"C:/Users/tayng/Documents/PythonScripts/cytometer/CAGEKEY\")"
   ]
  },
  {
   "cell_type": "code",
   "execution_count": 3,
   "metadata": {
    "collapsed": true
   },
   "outputs": [],
   "source": [
    "# update data directory\n",
    "datadir = os.path.normpath(\"C:/Users/tayng/Documents/Data/cytometer/CAGEKEY/THN20190222_MAT_Fus3PositiveFeedback_triplicates/\")+os.sep\n",
    " \n",
    "allfiles = {}\n",
    "date1 = '20190218'\n",
    "date2 = '20190220'\n",
    "date3 = '20190225'\n",
    "\n",
    "experiment = [date1, date2, date3]\n",
    "date = '20190218'\n",
    "\n",
    "for idx, exp in enumerate(experiment): \n",
    "    filepath = datadir + os.sep +'*.fcs'\n",
    "    files = glob.glob(filepath)\n",
    "    assert len(files)>0, \"No filenames recovered - check file path: \" + filepath\n",
    "    allfiles[exp] = [files[idx]]"
   ]
  },
  {
   "cell_type": "code",
   "execution_count": 4,
   "metadata": {
    "collapsed": true,
    "scrolled": true
   },
   "outputs": [],
   "source": [
    "allexp = {}\n",
    "\n",
    "for exp in experiment: # iterate through experiments (fcs files)\n",
    "    for f in allfiles[exp]:\n",
    "        allexp[exp] = FCMeasurement(ID = exp, datafile = f)\n",
    "        \n",
    "    allexp[exp].data = allexp[exp].data.loc[:, ['Time','SSC-H','FITC-H','mCherry-H','FSC-H']]"
   ]
  },
  {
   "cell_type": "code",
   "execution_count": 5,
   "metadata": {
    "collapsed": true,
    "scrolled": true
   },
   "outputs": [],
   "source": [
    "# settings\n",
    "og_num = 1;        # number of outgrowth timepoints\n",
    "samp_pd = 10;      # length of time b/w samples in min\n",
    "summary_idx  = 1   # check summaryfile from labview\n",
    "tot_reactors = pd.Series(range(1,9)) \n",
    "\n",
    "# read summary file\n",
    "summaryfilepath = {}\n",
    "summaryfile = {}\n",
    "paths = {}\n",
    "tot_timepoints = {}\n",
    "paths[date1] = \"THN20190218_summaryfile.csv\"\n",
    "paths[date2] = \"THN20190220_summaryfile.csv\"\n",
    "paths[date3] = \"THN20190225_summaryfile.csv\"\n",
    "\n",
    "for exp in experiment:\n",
    "    summaryfilepath[exp] = os.path.normpath(datadir + paths[exp])\n",
    "    summaryfile[exp] = pd.read_csv(summaryfilepath[exp], names=['timepoint','valve','start','end'])\n",
    "    summaryfile[exp]['valve'] = summaryfile[exp]['valve'].astype(int)\n",
    "    summaryfile[exp]['timepoint'] = summaryfile[exp]['timepoint'].astype(int)\n",
    "\n",
    "tot_timepoints = pd.Series(range(0,40))\n",
    "\n",
    "# create sample_order (valve # : order #)\n",
    "valves = [5, 4, 7, 6, 11, 12, 2, 1]\n",
    "order = [1, 2, 3, 4, 5, 6, 7, 8] # update\n",
    "sample_order = {}\n",
    "\n",
    "for i in range(len(valves)):\n",
    "    sample_order[valves[i]] = order[i]\n"
   ]
  },
  {
   "cell_type": "code",
   "execution_count": 6,
   "metadata": {
    "collapsed": true
   },
   "outputs": [],
   "source": [
    "# legend \n",
    "labels = ['CL pFus3 25nM',\n",
    "          'CL pFus3 12.5nM',\n",
    "          'CL pFus3 6.25nM',\n",
    "          'CL pFus3 3.13nM',\n",
    "          'OL pREV1 25nM',\n",
    "          'OL pREV1 12.5nM',\n",
    "          'OL pREV1 6.25nM',\n",
    "          'OL pREV1 3.13nM'];"
   ]
  },
  {
   "cell_type": "code",
   "execution_count": 7,
   "metadata": {
    "collapsed": true,
    "scrolled": true
   },
   "outputs": [],
   "source": [
    "# create binned_data\n",
    "binned_data = {}\n",
    "for exp in experiment:\n",
    "    binned_data[exp] = pd.DataFrame(index=tot_reactors,columns=tot_timepoints)\n",
    "\n",
    "for exp in experiment:\n",
    "    for i, row in enumerate(summaryfile[exp].values): # iterate through summary file\n",
    "        d = allexp[exp].data[allexp[exp].data.Time.between(summaryfile[exp].iloc[i,2],summaryfile[exp].iloc[i,3])]\n",
    "        timepoint = summaryfile[exp].iloc[i,0] - summary_idx \n",
    "        if timepoint < 40:\n",
    "            reactor_num = sample_order[summaryfile[exp].iloc[i,1]] # sample order gives the order of reactor (indexed at valve num)\n",
    "            binned_data[exp].set_value(reactor_num, timepoint, d)"
   ]
  },
  {
   "cell_type": "markdown",
   "metadata": {},
   "source": [
    "# Plot some things!!! "
   ]
  },
  {
   "cell_type": "code",
   "execution_count": 8,
   "metadata": {
    "collapsed": true
   },
   "outputs": [],
   "source": [
    "# delete outgrowth timepoint(s)\n",
    "t = ((tot_timepoints[:(-1)])*samp_pd)/60.0 "
   ]
  },
  {
   "cell_type": "code",
   "execution_count": 18,
   "metadata": {
    "collapsed": true
   },
   "outputs": [],
   "source": [
    "def get_color():\n",
    "    color=iter(sns.color_palette('hls',8))\n",
    "    return(color)\n",
    "\n",
    "def get_YFP_color():\n",
    "    CL_color = iter(sns.color_palette(sns.color_palette(\"YlOrRd_r\", 8)))\n",
    "    return(CL_color)"
   ]
  },
  {
   "cell_type": "code",
   "execution_count": 19,
   "metadata": {
    "collapsed": true
   },
   "outputs": [],
   "source": [
    "def calc_eventrate(reactor_num, timepoint):\n",
    "    Ns = binned_data.loc[reactor_num,timepoint].size\n",
    "    dt = binned_data.loc[reactor_num,timepoint].iloc[-1,0]-binned_data.loc[reactor_num,timepoint].iloc[0,0]\n",
    "    dt = dt/10.0\n",
    "            \n",
    "    events_all.loc[reactor_num,timepoint] = Ns;\n",
    "    event_rate.loc[reactor_num,timepoint] = Ns/dt\n",
    "    return(event_rate)\n",
    "    "
   ]
  },
  {
   "cell_type": "markdown",
   "metadata": {},
   "source": [
    "# plot norm data"
   ]
  },
  {
   "cell_type": "code",
   "execution_count": 20,
   "metadata": {
    "collapsed": true
   },
   "outputs": [],
   "source": [
    "def get_norm_data(exp, reactor_num, timepoint, datatype):\n",
    "    tp_data = binned_data[exp].loc[reactor_num, timepoint]\n",
    "    tp_data = tp_data[tp_data[datatype] > 0] # filter out cells that have no FITC output\n",
    "    tp_data = tp_data[tp_data['SSC-H'] > 1000]\n",
    "    \n",
    "    tot_events = tp_data.size\n",
    "    time = np.median(tp_data.loc[:,'Time'])\n",
    "    reading = tp_data.loc[:, datatype]\n",
    "    \n",
    "    raw_data = np.median(reading)\n",
    "    ssc = tp_data.loc[:,'SSC-H']\n",
    "    d = pd.Series(reading/ssc)\n",
    "            \n",
    "    d.dropna(how='any')    #to drop if all values in the row are nan\n",
    "    yerr = np.std(d)\n",
    "    d = np.median(d)\n",
    "    return(d, raw_data, time, yerr)"
   ]
  },
  {
   "cell_type": "code",
   "execution_count": 21,
   "metadata": {
    "collapsed": true
   },
   "outputs": [],
   "source": [
    "# get normalized data data\n",
    "rows = tot_reactors\n",
    "cols = tot_timepoints\n",
    "empty = pd.DataFrame(index = rows, columns = cols)\n",
    "\n",
    "FITC = {}\n",
    "mCherry = {}\n",
    "for exp in experiment:\n",
    "    FITC[exp] = pd.Panel({'time':empty, 'raw':empty, 'med':empty, 'sd':empty, 'ravg':empty})\n",
    "    mCherry[exp] = pd.Panel({'time':empty, 'raw':empty, 'med':empty, 'sd':empty, 'ravg':empty})\n",
    "\n",
    "    for reactor_num in tot_reactors:    \n",
    "        for timepoint in tot_timepoints:\n",
    "        \n",
    "            data, raw_data, time, yerr = get_norm_data(exp, reactor_num, timepoint, 'FITC-H')\n",
    "            FITC[exp].time.set_value(reactor_num, timepoint, time)\n",
    "            FITC[exp].raw.set_value(reactor_num, timepoint, raw_data)\n",
    "            FITC[exp].med.set_value(reactor_num, timepoint, data)\n",
    "            FITC[exp].sd.set_value(reactor_num, timepoint, yerr)\n",
    "        \n",
    "            data, raw_data, time, yerr = get_norm_data(exp, reactor_num, timepoint, 'mCherry-H')\n",
    "            mCherry[exp].time.set_value(reactor_num, timepoint, time)\n",
    "            mCherry[exp].raw.set_value(reactor_num, timepoint, raw_data)\n",
    "            mCherry[exp].med.set_value(reactor_num, timepoint, data)\n",
    "            mCherry[exp].sd.set_value(reactor_num, timepoint, yerr)\n"
   ]
  },
  {
   "cell_type": "code",
   "execution_count": 22,
   "metadata": {
    "collapsed": true
   },
   "outputs": [],
   "source": [
    "# get mean and sd data\n",
    "FITC_all = {}\n",
    "FITC_all = pd.Panel({'time':empty, 'med':empty, 'sd':empty, 'ravg':empty})\n",
    "\n",
    "for reactor_num in [1,2,3,4,5,6,7,8]:\n",
    "    for timepoint in tot_timepoints:\n",
    "        d1 = FITC[date1].med.loc[reactor_num, timepoint]\n",
    "        d2 = FITC[date2].med.loc[reactor_num, timepoint]\n",
    "        d3 = FITC[date3].med.loc[reactor_num, timepoint]\n",
    "        davg = np.mean([d1, d2, d3], dtype=np.float64)\n",
    "        dyerr = np.std([d1, d2, d3], dtype=np.float64)\n",
    "\n",
    "        FITC_all.med.set_value(reactor_num, timepoint, davg)\n",
    "        FITC_all.sd.set_value(reactor_num, timepoint, dyerr)"
   ]
  },
  {
   "cell_type": "code",
   "execution_count": 23,
   "metadata": {},
   "outputs": [
    {
     "name": "stderr",
     "output_type": "stream",
     "text": [
      "C:\\Users\\tayng\\Anaconda2\\lib\\site-packages\\ipykernel_launcher.py:5: FutureWarning: pd.rolling_mean is deprecated for Series and will be removed in a future version, replace with \n",
      "\tSeries.rolling(window=3,center=True).mean()\n",
      "  \"\"\"\n"
     ]
    }
   ],
   "source": [
    "def rolling_mean(readout, reactor_num, N):\n",
    "    t_last = len(t)\n",
    "\n",
    "    if readout == 'FITC-H':\n",
    "        ravg = pd.rolling_mean(FITC_all.med.loc[reactor_num, :], N, center=True)\n",
    "        ravg[0] = (FITC_all.med.loc[reactor_num, 0]+FITC_all.med.loc[reactor_num, 1])/2\n",
    "        ravg[t_last] = (FITC_all.med.loc[reactor_num, t_last-1]+FITC_all.med.loc[reactor_num, t_last])/2\n",
    "        \n",
    "    return(ravg)\n",
    "\n",
    "window = 3;\n",
    "for reactor_num in range(1,9):\n",
    "    FITC_all.ravg.loc[reactor_num, :] = rolling_mean('FITC-H',reactor_num, window)"
   ]
  },
  {
   "cell_type": "markdown",
   "metadata": {},
   "source": [
    "# plot on log10 yscale"
   ]
  },
  {
   "cell_type": "code",
   "execution_count": 27,
   "metadata": {
    "scrolled": false
   },
   "outputs": [
    {
     "data": {
      "image/png": "[encoded data removed]",
      "text/plain": [
       "<matplotlib.figure.Figure at 0x510a4588>"
      ]
     },
     "metadata": {},
     "output_type": "display_data"
    }
   ],
   "source": [
    "# plot on log 10 scale output over time\n",
    "fig, ax = plt.subplots(4, 1, sharex = True, sharey = False, figsize = (2.5, 8))\n",
    "ax = ax.ravel()\n",
    "\n",
    "YFP_color = get_YFP_color()\n",
    "YFP_color_OL = iter((sns.color_palette(\"Greys_r\", 6)))\n",
    "\n",
    "for i in range(4):\n",
    "    c_YFP = next(YFP_color)\n",
    "    \n",
    "for i in range(2):\n",
    "    c_YFP_OL = next(YFP_color_OL)\n",
    "\n",
    "ms = 4; lw = 1.; mew = 1; cs = 1.5; ct = 1.;\n",
    "\n",
    "for i in range(1,5):     \n",
    "\n",
    "    c_YFP = next(YFP_color)\n",
    "    ax[i-1].errorbar(t, FITC_all.med.loc[i, 1:], FITC_all.sd.loc[reactor_num, 1:], elinewidth = 1, linestyle='none', marker='o', \n",
    "                     markersize=ms, capsize=cs, capthick=ct, color = c_YFP)\n",
    "    ax[i-1].plot(t, FITC_all.ravg.loc[i, 1:], label='_nolegend_', linewidth = lw, color=c_YFP)\n",
    "\n",
    "    \n",
    "    c_YFP_OL = next(YFP_color_OL)\n",
    "    ax[i-1].errorbar(t, FITC_all.med.loc[i+4, 1:], FITC_all.sd.loc[reactor_num, 1:], linestyle='none',  elinewidth = 1,  \n",
    "                    marker='o', markersize=ms, fillstyle = 'none', capsize=cs, capthick=ct, color = c_YFP_OL,  \n",
    "                    markeredgewidth=mew, markerfacecolor = 'none', markeredgecolor=c_YFP_OL)\n",
    "    ax[i-1].plot(t, FITC_all.ravg.loc[i+4, 1:], label='_nolegend_', linewidth = lw, color=c_YFP_OL)\n",
    "\n",
    "    \n",
    "for i in range(4):\n",
    "    #ax[i].set_yscale('log')\n",
    "    ax[i].spines['right'].set_visible(False)\n",
    "    ax[i].spines['top'].set_visible(False)\n",
    "    ax[i].set_xlim([-0.5, 6.5])            \n",
    "\n",
    "ax[1].set_xticks(np.arange(0, 7, step=1))\n",
    "ax[3].set_xlabel('Time (hrs)')  \n",
    "ax[3].set_ylabel('Normalized YFP')\n",
    "\n",
    "#ax[0].legend(['FB 25nM','no FB 25nM'], bbox_to_anchor=(1.05, 1), loc=2, borderaxespad=0.)\n",
    "#ax[1].legend(['FB 12.5nM','no FB 12.5nM'], bbox_to_anchor=(1.05, 1), loc=2, borderaxespad=0.)\n",
    "#ax[2].legend(['FB 6.25nM','no FB 6.25nM'], bbox_to_anchor=(1.05, 1), loc=2, borderaxespad=0.)\n",
    "#ax[3].legend(['FB 3.13nM','no FB 3.13nM'], bbox_to_anchor=(1.05, 1), loc=2, borderaxespad=0.)\n",
    "\n",
    "dest = datadir + 'pyfig\\\\' + date + '_forExtendedDataFig2'\n",
    "plt.savefig(dest + '.png', bbox_inches='tight',dpi=300)\n",
    "plt.savefig(dest + '.svg', bbox_inches='tight',dpi=300)\n",
    "\n",
    "plt.show()\n",
    "plt.close()"
   ]
  },
  {
   "cell_type": "code",
   "execution_count": 25,
   "metadata": {},
   "outputs": [
    {
     "data": {
      "image/png": "[encoded data removed]",
      "text/plain": [
       "<matplotlib.figure.Figure at 0x5038b048>"
      ]
     },
     "metadata": {},
     "output_type": "display_data"
    }
   ],
   "source": [
    "# plot on log 10 scale output over time\n",
    "fig, ax = plt.subplots(figsize = (2.2, 2))\n",
    "YFP_color = get_YFP_color()\n",
    "\n",
    "for i in range(4):\n",
    "    c_YFP = next(YFP_color)\n",
    "\n",
    "ms = 5; lw = 1.5; mew = 1; cs = 2; ct = 1.5;\n",
    "\n",
    "reactors_to_plot = [5,1];\n",
    "for reactor_num in reactors_to_plot:     \n",
    "    OL_ctrl = FITC_all.med.loc[5, 0];\n",
    "    \n",
    "    if reactor_num == 1:\n",
    "        c_YFP = next(YFP_color)\n",
    "        ax.errorbar(t, FITC_all.med.loc[reactor_num, 1:]/OL_ctrl, FITC_all.sd.loc[reactor_num, 1:]/OL_ctrl, elinewidth=1,\n",
    "                    linestyle='none', \n",
    "                    marker='o', markersize=ms, capsize=cs, capthick=ct, color = c_YFP)\n",
    "        ax.plot(t, FITC_all.ravg.loc[reactor_num, 1:]/OL_ctrl, label='_nolegend_', linewidth = lw, color=c_YFP)\n",
    "\n",
    "    if reactor_num == 5: \n",
    "        ax.errorbar(t, FITC_all.med.loc[reactor_num, 1:]/OL_ctrl, FITC_all.sd.loc[reactor_num, 1:]/OL_ctrl, elinewidth=1, \n",
    "                    linestyle='none', marker='o', capsize=cs, capthick=ct, color = 'grey', markersize = ms, markeredgewidth=1, \n",
    "                    markerfacecolor = 'none', markeredgecolor='grey')\n",
    "        ax.plot(t, FITC_all.ravg.loc[reactor_num, 1:]/OL_ctrl, label='_nolegend_', linewidth = lw, color='grey')\n",
    "\n",
    "#ax.set_yscale('log')\n",
    "ax.set_xticks(np.arange(0, 7, step=1))\n",
    "ax.spines['right'].set_visible(False)\n",
    "ax.spines['top'].set_visible(False)\n",
    "#ax.set_ylabel('Normalized YFP')\n",
    "ax.set_xlim([-0.5, 7.0])  \n",
    "#ax.set_ylim([.05, 9])\n",
    "#ax.legend(['CL 25nM','CL 6.25nM','CL 3.13nM','OL 25nM'], bbox_to_anchor=(1.05, 1), loc=2, borderaxespad=0.)\n",
    "\n",
    "dest = datadir + 'pyfig\\\\' + date + '_HIdose_OLnorm_YFPtriplicates'\n",
    "plt.savefig(dest + '.png', bbox_inches='tight',dpi=300)\n",
    "plt.savefig(dest + '.svg', bbox_inches='tight',dpi=300)\n",
    "plt.show()\n",
    "plt.close()"
   ]
  },
  {
   "cell_type": "code",
   "execution_count": 26,
   "metadata": {},
   "outputs": [
    {
     "data": {
      "image/png": "[encoded data removed]",
      "text/plain": [
       "<matplotlib.figure.Figure at 0x51ffc6d8>"
      ]
     },
     "metadata": {},
     "output_type": "display_data"
    }
   ],
   "source": [
    "# plot on log 10 scale output over time\n",
    "fig, ax = plt.subplots(figsize = (2., 1.5))\n",
    "\n",
    "YFP_color = get_YFP_color()\n",
    "\n",
    "for i in range(4):\n",
    "    c_YFP = next(YFP_color)\n",
    "\n",
    "ms = 4; lw = 1.5; mew = 1; cs = 2; ct = 1.5;\n",
    "\n",
    "reactors_to_plot = [5,1];\n",
    "for reactor_num in reactors_to_plot:     \n",
    "    \n",
    "    if reactor_num == 1:\n",
    "        c_YFP = next(YFP_color)\n",
    "        ax.errorbar(t, FITC_all.med.loc[reactor_num, 1:], FITC_all.sd.loc[reactor_num, 1:], elinewidth=1,\n",
    "                    linestyle='none', \n",
    "                    marker='o', markersize=ms, capsize=cs, capthick=ct, color = c_YFP)\n",
    "        ax.plot(t, FITC_all.ravg.loc[reactor_num, 1:], label='_nolegend_', linewidth = lw, color=c_YFP)\n",
    "\n",
    "    if reactor_num == 5: \n",
    "        ax.errorbar(t, FITC_all.med.loc[reactor_num, 1:], FITC_all.sd.loc[reactor_num, 1:], elinewidth=1, \n",
    "                    linestyle='none', marker='o', capsize=cs, capthick=ct, color = 'grey', markersize = ms, markeredgewidth=1, \n",
    "                    markerfacecolor = 'none', markeredgecolor='grey')\n",
    "        ax.plot(t, FITC_all.ravg.loc[reactor_num, 1:], label='_nolegend_', linewidth = lw, color='grey')\n",
    "\n",
    "#ax.set_yscale('log')\n",
    "ax.set_xticks(np.arange(0, 6.8, step=1))\n",
    "ax.spines['right'].set_visible(False)\n",
    "ax.spines['top'].set_visible(False)\n",
    "#ax.set_ylabel('Normalized YFP')\n",
    "ax.set_xlim([-0.5, 7.0])  \n",
    "#ax.set_ylim([.05, 9])\n",
    "#ax.legend(['CL 25nM','CL 6.25nM','CL 3.13nM','OL 25nM'], bbox_to_anchor=(1.05, 1), loc=2, borderaxespad=0.)\n",
    "\n",
    "dest = datadir + 'pyfig\\\\' + date + '_HIdose_YFPtriplicates'\n",
    "plt.savefig(dest + '.png', bbox_inches='tight',dpi=300)\n",
    "plt.savefig(dest + '.svg', bbox_inches='tight',dpi=300)\n",
    "plt.show()\n",
    "plt.close()"
   ]
  }
 ],
 "metadata": {
  "kernelspec": {
   "display_name": "Python 2",
   "language": "python",
   "name": "python2"
  },
  "language_info": {
   "codemirror_mode": {
    "name": "ipython",
    "version": 2
   },
   "file_extension": ".py",
   "mimetype": "text/x-python",
   "name": "python",
   "nbconvert_exporter": "python",
   "pygments_lexer": "ipython2",
   "version": "2.7.13"
  }
 },
 "nbformat": 4,
 "nbformat_minor": 2
}

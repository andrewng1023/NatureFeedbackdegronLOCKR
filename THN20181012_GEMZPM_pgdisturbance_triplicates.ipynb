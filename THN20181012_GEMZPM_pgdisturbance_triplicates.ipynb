{
 "cells": [
  {
   "cell_type": "code",
   "execution_count": 2,
   "metadata": {
    "collapsed": true
   },
   "outputs": [],
   "source": [
    "# compile triplicates for synthetic feedback circuit \n",
    "# positive (pg) disturbance\n",
    "# dilution, sample every 25 minutes"
   ]
  },
  {
   "cell_type": "code",
   "execution_count": 3,
   "metadata": {
    "collapsed": true
   },
   "outputs": [],
   "source": [
    "from FlowCytometryTools import *\n",
    "import numpy as np\n",
    "import pandas as pd\n",
    "import math\n",
    "import matplotlib\n",
    "import matplotlib.pyplot as plt\n",
    "import glob\n",
    "import seaborn as sns\n",
    "import pickle as pkl\n",
    "from scipy.interpolate import interp1d\n",
    "from scipy import stats\n",
    "\n",
    "import os\n",
    "import sys\n",
    "\n",
    "path = \"C:/Users/tayng/Documents/PythonScripts/cytometer\"\n",
    "\n",
    "if not path in sys.path:\n",
    "    sys.path.insert(1, path)\n",
    "    os.chdir(path)\n",
    "    from AHN_FlowTools import *\n",
    "del path\n",
    "\n",
    "sns.set_style('white')\n",
    "sns.set_style('ticks')\n",
    "%matplotlib inline\n",
    "\n",
    "os.chdir(\"C:/Users/tayng/Documents/PythonScripts/cytometer/CAGEKEY\")"
   ]
  },
  {
   "cell_type": "code",
   "execution_count": 4,
   "metadata": {
    "collapsed": true
   },
   "outputs": [],
   "source": [
    "# update data directory\n",
    "datadir = os.path.normpath(\"C:/Users/tayng/Documents/Data/cytometer/CAGEKEY/THN20181012_GEMZPM_pgdisturbance_triplicates/\")+os.sep\n",
    " \n",
    "allfiles = {}\n",
    "date1 = '20180704'\n",
    "date2 = '20180705'\n",
    "date3 = '20181011'\n",
    "\n",
    "experiment = [date1, date2, date3]\n",
    "date = '20180704'\n",
    "\n",
    "for idx, exp in enumerate(experiment): \n",
    "    filepath = datadir + os.sep +'*.fcs'\n",
    "    files = glob.glob(filepath)\n",
    "    assert len(files)>0, \"No filenames recovered - check file path: \" + filepath\n",
    "    allfiles[exp] = [files[idx]]"
   ]
  },
  {
   "cell_type": "code",
   "execution_count": 5,
   "metadata": {
    "collapsed": true,
    "scrolled": true
   },
   "outputs": [],
   "source": [
    "allexp = {}\n",
    "\n",
    "for exp in experiment: # iterate through experiments (fcs files)\n",
    "    for f in allfiles[exp]:\n",
    "        allexp[exp] = FCMeasurement(ID = exp, datafile = f)\n",
    "        \n",
    "    allexp[exp].data = allexp[exp].data.loc[:, ['Time','SSC-H','FITC-H','mCherry-H','FSC-H']]"
   ]
  },
  {
   "cell_type": "code",
   "execution_count": 6,
   "metadata": {
    "collapsed": true,
    "scrolled": true
   },
   "outputs": [],
   "source": [
    "# settings\n",
    "og_num = 1;        # number of outgrowth timepoints\n",
    "samp_pd = 25;      # length of time b/w samples in min\n",
    "summary_idx  = 1   # check summaryfile from labview\n",
    "tot_reactors = pd.Series(range(1,9)) \n",
    "\n",
    "# read summary file\n",
    "summaryfilepath = {}\n",
    "summaryfile = {}\n",
    "paths = {}\n",
    "tot_timepoints = {}\n",
    "paths[date1] = \"THN20180704_summaryfile.csv\"\n",
    "paths[date2] = \"THN20180705_summaryfile.csv\"\n",
    "paths[date3] = \"THN20181011_summaryfile.csv\"\n",
    "\n",
    "for exp in experiment:\n",
    "    summaryfilepath[exp] = os.path.normpath(datadir + paths[exp])\n",
    "    summaryfile[exp] = pd.read_csv(summaryfilepath[exp], names=['timepoint','valve','start','end'])\n",
    "    summaryfile[exp]['valve'] = summaryfile[exp]['valve'].astype(int)\n",
    "    summaryfile[exp]['timepoint'] = summaryfile[exp]['timepoint'].astype(int)\n",
    "\n",
    "tot_timepoints = pd.Series(range(0,49))\n",
    "\n",
    "# create sample_order (valve # : order #)\n",
    "valves = [5, 4, 7, 6, 11, 12, 2, 1]\n",
    "order = [1, 2, 3, 4, 5, 6, 7, 8] # update\n",
    "sample_order = {}\n",
    "\n",
    "for i in range(len(valves)):\n",
    "    sample_order[valves[i]] = order[i]\n"
   ]
  },
  {
   "cell_type": "code",
   "execution_count": 7,
   "metadata": {
    "collapsed": true
   },
   "outputs": [],
   "source": [
    "# legend \n",
    "labels = ['feedback: no disturbance',\n",
    "          'feedback: 1.56nM Pg',\n",
    "          'feedback: 3.13nM Pg',\n",
    "          'feedback: 6.25nM Pg',\n",
    "          'no feedback: no disturbance',\n",
    "          'no feedback: 1.56nM Pg',\n",
    "          'no feedback: 3.13nM Pg',\n",
    "          'no feedback: 6.25nM Pg'];"
   ]
  },
  {
   "cell_type": "code",
   "execution_count": 8,
   "metadata": {
    "collapsed": true,
    "scrolled": true
   },
   "outputs": [],
   "source": [
    "# create binned_data\n",
    "binned_data = {}\n",
    "for exp in experiment:\n",
    "    binned_data[exp] = pd.DataFrame(index=tot_reactors,columns=tot_timepoints)\n",
    "\n",
    "for exp in experiment:\n",
    "    for i, row in enumerate(summaryfile[exp].values): # iterate through summary file\n",
    "        d = allexp[exp].data[allexp[exp].data.Time.between(summaryfile[exp].iloc[i,2],summaryfile[exp].iloc[i,3])]\n",
    "        timepoint = summaryfile[exp].iloc[i,0] - summary_idx \n",
    "        if timepoint < 49:\n",
    "            reactor_num = sample_order[summaryfile[exp].iloc[i,1]] # sample order gives the order of reactor (indexed at valve num)\n",
    "            binned_data[exp].set_value(reactor_num, timepoint, d)"
   ]
  },
  {
   "cell_type": "markdown",
   "metadata": {},
   "source": [
    "# Plot some things!!! "
   ]
  },
  {
   "cell_type": "code",
   "execution_count": 9,
   "metadata": {
    "collapsed": true
   },
   "outputs": [],
   "source": [
    "# delete outgrowth timepoint(s)\n",
    "t = ((tot_timepoints)*samp_pd)/60.0 \n",
    "t_cut = t[20:50]-10.0"
   ]
  },
  {
   "cell_type": "code",
   "execution_count": 10,
   "metadata": {
    "collapsed": true
   },
   "outputs": [],
   "source": [
    "def get_color():\n",
    "    color=iter(sns.color_palette('hls',8))\n",
    "    return(color)\n",
    "\n",
    "def get_YFP_color():\n",
    "    CL_color = iter(sns.color_palette(sns.color_palette(\"YlOrRd\", 8)))\n",
    "    return(CL_color)"
   ]
  },
  {
   "cell_type": "code",
   "execution_count": 11,
   "metadata": {
    "collapsed": true
   },
   "outputs": [],
   "source": [
    "def calc_eventrate(reactor_num, timepoint):\n",
    "    Ns = binned_data.loc[reactor_num,timepoint].size\n",
    "    dt = binned_data.loc[reactor_num,timepoint].iloc[-1,0]-binned_data.loc[reactor_num,timepoint].iloc[0,0]\n",
    "    dt = dt/10.0\n",
    "            \n",
    "    events_all.loc[reactor_num,timepoint] = Ns;\n",
    "    event_rate.loc[reactor_num,timepoint] = Ns/dt\n",
    "    return(event_rate)\n",
    "    "
   ]
  },
  {
   "cell_type": "markdown",
   "metadata": {},
   "source": [
    "# plot norm data"
   ]
  },
  {
   "cell_type": "code",
   "execution_count": 12,
   "metadata": {
    "collapsed": true
   },
   "outputs": [],
   "source": [
    "def get_norm_data(exp, reactor_num, timepoint, datatype):\n",
    "    tp_data = binned_data[exp].loc[reactor_num, timepoint]\n",
    "    tp_data = tp_data[tp_data[datatype] > 0] \n",
    "    tp_data = tp_data[tp_data['SSC-H'] > 1000]\n",
    "    \n",
    "    tot_events = tp_data.size\n",
    "    time = np.median(tp_data.loc[:,'Time'])\n",
    "    reading = tp_data.loc[:, datatype]\n",
    "    \n",
    "    raw_data = np.median(reading)\n",
    "    ssc = tp_data.loc[:,'SSC-H']\n",
    "    d = pd.Series(reading/ssc)\n",
    "            \n",
    "    d.dropna(how='any')    #to drop if all values in the row are nan\n",
    "    yerr = np.std(d)\n",
    "    d = np.median(d)\n",
    "    return(d, raw_data, time, yerr)"
   ]
  },
  {
   "cell_type": "code",
   "execution_count": 13,
   "metadata": {
    "collapsed": true
   },
   "outputs": [],
   "source": [
    "# get normalized data data\n",
    "rows = tot_reactors\n",
    "cols = tot_timepoints\n",
    "empty = pd.DataFrame(index = rows, columns = cols)\n",
    "\n",
    "FITC = {}\n",
    "for exp in experiment:\n",
    "    FITC[exp] = pd.Panel({'time':empty, 'raw':empty, 'med':empty, 'sd':empty, 'ravg':empty})\n",
    "\n",
    "    for reactor_num in tot_reactors:    \n",
    "        for timepoint in tot_timepoints:\n",
    "        \n",
    "            data, raw_data, time, yerr = get_norm_data(exp, reactor_num, timepoint, 'FITC-H')\n",
    "            FITC[exp].time.set_value(reactor_num, timepoint, time)\n",
    "            FITC[exp].raw.set_value(reactor_num, timepoint, raw_data)\n",
    "            FITC[exp].med.set_value(reactor_num, timepoint, data)\n",
    "            FITC[exp].sd.set_value(reactor_num, timepoint, yerr)\n",
    "            FITC[exp].ravg.set_value(reactor_num, timepoint, yerr)\n"
   ]
  },
  {
   "cell_type": "code",
   "execution_count": 14,
   "metadata": {
    "collapsed": true
   },
   "outputs": [],
   "source": [
    "# get mean and sd data\n",
    "FITC_all = {}\n",
    "FITC_all = pd.Panel({'time':empty, 'med':empty, 'sd':empty, 'ravg':empty})\n",
    "\n",
    "for reactor_num in tot_reactors:\n",
    "    for timepoint in tot_timepoints:\n",
    "        d1 = FITC[date1].med.loc[reactor_num, timepoint]\n",
    "        d2 = FITC[date2].med.loc[reactor_num, timepoint]\n",
    "        d3 = FITC[date3].med.loc[reactor_num, timepoint]\n",
    "        davg = np.mean([d1, d2, d3], dtype=np.float64)\n",
    "        dyerr = np.std([d1, d2, d3], dtype=np.float64)\n",
    "\n",
    "        FITC_all.med.set_value(reactor_num, timepoint, davg)\n",
    "        FITC_all.sd.set_value(reactor_num, timepoint, dyerr)"
   ]
  },
  {
   "cell_type": "code",
   "execution_count": 15,
   "metadata": {
    "scrolled": true
   },
   "outputs": [
    {
     "name": "stderr",
     "output_type": "stream",
     "text": [
      "C:\\Users\\tayng\\Anaconda2\\lib\\site-packages\\ipykernel_launcher.py:5: FutureWarning: pd.rolling_mean is deprecated for Series and will be removed in a future version, replace with \n",
      "\tSeries.rolling(window=3,center=True).mean()\n",
      "  \"\"\"\n",
      "C:\\Users\\tayng\\Anaconda2\\lib\\site-packages\\ipykernel_launcher.py:10: FutureWarning: pd.rolling_mean is deprecated for Series and will be removed in a future version, replace with \n",
      "\tSeries.rolling(window=3,center=True).mean()\n",
      "  # Remove the CWD from sys.path while we load stuff.\n"
     ]
    }
   ],
   "source": [
    "def rolling_mean(readout, reactor_num, N):\n",
    "    t_last = len(t)-1\n",
    "\n",
    "    if readout == 'FITC-H':\n",
    "        ravg = pd.rolling_mean(FITC_all.med.loc[reactor_num, :], N, center=True)\n",
    "        ravg[0] = (FITC_all.med.loc[reactor_num, 0]+FITC_all.med.loc[reactor_num, 1])/2\n",
    "        ravg[t_last] = (FITC_all.med.loc[reactor_num, t_last-1]+FITC_all.med.loc[reactor_num, t_last])/2\n",
    "        \n",
    "    return(ravg)\n",
    "\n",
    "window = 3;\n",
    "for reactor_num in range(1,9):\n",
    "    FITC_all.ravg.loc[reactor_num, :] = rolling_mean('FITC-H',reactor_num, window)"
   ]
  },
  {
   "cell_type": "markdown",
   "metadata": {},
   "source": [
    "# plot on log10 yscale"
   ]
  },
  {
   "cell_type": "code",
   "execution_count": 16,
   "metadata": {
    "scrolled": true
   },
   "outputs": [
    {
     "data": {
      "image/png": "[encoded data removed]",
      "text/plain": [
       "<matplotlib.figure.Figure at 0x350c9d30>"
      ]
     },
     "metadata": {},
     "output_type": "display_data"
    }
   ],
   "source": [
    "# plot on log 10 scale output over time\n",
    "# rep 2\n",
    "fig, ax = plt.subplots(2, 1, sharex = True, sharey = True, figsize = (2, 3.))\n",
    "YFP_color = get_YFP_color()\n",
    "YFP_color_OL = get_YFP_color()\n",
    "c_YFP = next(YFP_color)\n",
    "c_YFP_OL = next(YFP_color_OL)\n",
    "\n",
    "ms = 3; lw = 1. ; mew = 1; cs = 1.5; ct = 1;\n",
    "\n",
    "for reactor_num in tot_reactors: \n",
    "    if reactor_num == 1:\n",
    "        ax[0].errorbar(t_cut, FITC_all.med.loc[reactor_num, 20:50], FITC_all.sd.loc[reactor_num, 20:50],\n",
    "                       elinewidth=1, linestyle='none', marker='o', markersize=ms, capsize=cs, capthick=ct, color = 'grey')\n",
    "        ax[0].plot(t_cut, FITC_all.ravg.loc[reactor_num, 20:50], label='_nolegend_', linewidth = lw, color='grey')\n",
    "\n",
    "    if reactor_num == 2 or reactor_num == 3 or reactor_num == 4:\n",
    "        c_YFP = next(YFP_color)\n",
    "        ax[0].errorbar(t_cut, FITC_all.med.loc[reactor_num, 20:50], FITC_all.sd.loc[reactor_num, 20:50],\n",
    "                       elinewidth=1, linestyle='none', marker='o', markersize=ms, capsize=cs, capthick=ct, color = c_YFP)\n",
    "        ax[0].plot(t_cut, FITC_all.ravg.loc[reactor_num, 20:50], label='_nolegend_', linewidth = lw, color=c_YFP)\n",
    "\n",
    "    if reactor_num == 5:\n",
    "        ax[1].errorbar(t_cut, FITC_all.med.loc[reactor_num, 20:50], FITC_all.sd.loc[reactor_num, 20:50], elinewidth=1, \n",
    "                       linestyle='none', marker='o', capsize=cs, capthick=ct, color = 'grey', markersize=ms, \n",
    "                       markeredgewidth=0.5, markerfacecolor = 'none', markeredgecolor='grey')\n",
    "        ax[1].plot(t_cut, FITC_all.ravg.loc[reactor_num, 20:50], label='_nolegend_', linewidth = lw, color='grey')\n",
    "\n",
    "    if reactor_num == 6 or reactor_num == 7 or reactor_num ==8: \n",
    "        c_YFP_OL = next(YFP_color_OL)\n",
    "        ax[1].errorbar(t_cut, FITC_all.med.loc[reactor_num, 20:50], FITC_all.sd.loc[reactor_num, 20:50], elinewidth=1, \n",
    "                       linestyle='none', marker='o', capsize=cs, capthick=ct, color = c_YFP_OL, markersize=ms, \n",
    "                       markeredgewidth=0.5, markerfacecolor = 'none', markeredgecolor=c_YFP_OL)\n",
    "        ax[1].plot(t_cut, FITC_all.ravg.loc[reactor_num, 20:50], label='_nolegend_', linewidth = lw, color=c_YFP_OL)\n",
    "\n",
    "#ax[0].set_ylabel('Normalized YFP')\n",
    "#ax[0].set_title('Closed loop') \n",
    "#ax[1].set_title('Open loop') \n",
    "\n",
    "ax[1].set_xticks(np.arange(-2, 12, step=2))\n",
    "\n",
    "for i in range(2):\n",
    "    ax[i].set_yscale('log')\n",
    "    #ax[i].legend(['no disturbance','low','med','high'],loc='upper left')\n",
    "\n",
    "    ax[i].spines['right'].set_visible(False)\n",
    "    ax[i].spines['top'].set_visible(False)\n",
    "    #ax[i].set_xlabel('Time (hrs)')\n",
    "    \n",
    "    if i == 0: \n",
    "        ax[i].set_ylim([.18, 2.9])\n",
    "        ax[i].set_xlim([-2.0, 10.3])\n",
    "\n",
    "dest = datadir + 'pyfig\\\\' + date + '_log10scaleoutput_compareDose'\n",
    "plt.savefig(dest + '.png', bbox_inches='tight',dpi=300)\n",
    "plt.savefig(dest + '.svg', bbox_inches='tight',dpi=300)\n",
    "plt.show()\n",
    "plt.close()"
   ]
  },
  {
   "cell_type": "code",
   "execution_count": 17,
   "metadata": {
    "collapsed": true
   },
   "outputs": [],
   "source": [
    "# get mean and sd data\n",
    "ssFITC = {}\n",
    "empty = pd.DataFrame(index = rows, columns = range(1,4)) # columns are triplicates\n",
    "ssFITC = pd.Panel({'avg':empty, 'precision':empty})\n",
    "\n",
    "for reactor_num in tot_reactors:\n",
    "        \n",
    "    d1 = np.mean(FITC[date1].med.loc[reactor_num, 43:49]);\n",
    "    d2 = np.mean(FITC[date2].med.loc[reactor_num, 43:49]);\n",
    "    d3 = np.mean(FITC[date3].med.loc[reactor_num, 43:49]);\n",
    "\n",
    "    ssFITC.avg.set_value(reactor_num, 1, d1)\n",
    "    ssFITC.avg.set_value(reactor_num, 2, d2)\n",
    "    ssFITC.avg.set_value(reactor_num, 3, d3)\n"
   ]
  },
  {
   "cell_type": "code",
   "execution_count": 18,
   "metadata": {
    "scrolled": true
   },
   "outputs": [
    {
     "name": "stderr",
     "output_type": "stream",
     "text": [
      "C:\\Users\\tayng\\Anaconda2\\lib\\site-packages\\ipykernel_launcher.py:21: RuntimeWarning: invalid value encountered in double_scalars\n"
     ]
    }
   ],
   "source": [
    "# plot precision\n",
    "i1 = 6.25/8;\n",
    "i2 = [(6.25/8), (6.25/4), (6.25/2), 6.25, (6.25/8), (6.25/4), (6.25/2), 6.25];\n",
    "\n",
    "for j in range(1,4): # iterate through triplicates\n",
    "    for i, reactor_num in enumerate(tot_reactors): \n",
    "    \n",
    "        # no disturbance value\n",
    "        CL_NoDisturbance = ssFITC.avg.loc[1, j]; \n",
    "        OL_NoDisturbance = ssFITC.avg.loc[5, j];\n",
    "    \n",
    "        disturbance = ssFITC.avg.loc[reactor_num, j];\n",
    "\n",
    "        if reactor_num == 1 or reactor_num == 2 or reactor_num == 3 or reactor_num == 4: \n",
    "            error = np.abs((disturbance-CL_NoDisturbance)/CL_NoDisturbance);\n",
    "        \n",
    "        elif reactor_num == 5 or reactor_num == 6 or reactor_num == 7 or reactor_num == 8:\n",
    "            error = np.abs((disturbance-OL_NoDisturbance)/OL_NoDisturbance);\n",
    "        \n",
    "        inorm = (i2[i]-i1)/i1; \n",
    "        precision = (error/inorm)**-1;\n",
    "        ssFITC.precision.set_value(reactor_num, j, precision)\n"
   ]
  },
  {
   "cell_type": "code",
   "execution_count": 19,
   "metadata": {
    "collapsed": true
   },
   "outputs": [],
   "source": [
    "ssFITCprecision = {}\n",
    "empty = pd.DataFrame(index = rows, columns = [0]) # columns are triplicates\n",
    "ssFITCprecision = pd.Panel({'avg':empty, 'sd':empty})\n",
    "\n",
    "for reactor_num in tot_reactors:\n",
    "        \n",
    "    d1 = ssFITC.precision.loc[reactor_num, 1];\n",
    "    d2 = ssFITC.precision.loc[reactor_num, 2];\n",
    "    d3 = ssFITC.precision.loc[reactor_num, 3];\n",
    "    \n",
    "    davg = np.mean([d1, d2, d3], dtype=np.float64)\n",
    "    dyerr = np.std([d1, d2, d3], dtype=np.float64)\n",
    "\n",
    "    ssFITCprecision.avg.set_value(reactor_num, 0, davg)\n",
    "    ssFITCprecision.sd.set_value(reactor_num, 0, dyerr)"
   ]
  },
  {
   "cell_type": "code",
   "execution_count": 158,
   "metadata": {},
   "outputs": [
    {
     "name": "stdout",
     "output_type": "stream",
     "text": [
      "0.000724856409396\n",
      "6.59693218374e-05\n",
      "2.36453953669e-05\n"
     ]
    },
    {
     "data": {
      "image/png": "[encoded data removed]",
      "text/plain": [
       "<matplotlib.figure.Figure at 0x37175c88>"
      ]
     },
     "metadata": {},
     "output_type": "display_data"
    }
   ],
   "source": [
    "# plot precision\n",
    "fig, ax = plt.subplots(figsize = (1, 1.2))\n",
    "#fig, ax = plt.subplots(figsize = (5, 5))\n",
    "\n",
    "index = np.arange(3)\n",
    "bar_width = 0.35;\n",
    "cs = 1;\n",
    "ct = 1;\n",
    "space = np.array([0.2,0.5,0.8]);\n",
    "lwidth = 0.5;\n",
    "mwidth = 0.3;\n",
    "size = 4;\n",
    "\n",
    "CL_barlist = ax.bar(index, ssFITCprecision.avg.loc[2:4, 0], bar_width, yerr=ssFITCprecision.sd.loc[2:4, 0],\n",
    "                    linewidth = lwidth, error_kw=dict(lw=lwidth, capsize = cs, capthick = ct), color='y', label='Closed loop', fill=False)\n",
    "OL_barlist = ax.bar(index + bar_width, ssFITCprecision.avg.loc[6:8, 0], bar_width, yerr=ssFITCprecision.sd.loc[6:8, 0], \n",
    "                    linewidth = lwidth, error_kw=dict(lw=lwidth, capsize = cs, capthick = ct), fill=False, color='r', label='Open loop')\n",
    "\n",
    "# add the individual data points\n",
    "for idx, reactor_num in enumerate(range(2,5)):    \n",
    "    for i in index: # closed loop reactors\n",
    "        x = space[i]*bar_width+idx-bar_width/2\n",
    "        CL_scatter = ax.scatter(x, ssFITC.precision.loc[reactor_num, i+1], \n",
    "                                color='none', edgecolor = 'black', linewidth = mwidth, s=size)\n",
    "        \n",
    "for idx, reactor_num in enumerate(range(6,9)): # open loop reactors\n",
    "    for i in index:\n",
    "        x = space[i]*bar_width+idx+bar_width/2\n",
    "        OL_scatter = ax.scatter(x, ssFITC.precision.loc[reactor_num, i+1], \n",
    "                               color='none', edgecolor = 'black', linewidth = mwidth, s =size)\n",
    "\n",
    "for i in range(2,5):\n",
    "    t1 = ssFITC.avg.loc[i, 1:3];\n",
    "    t2 = ssFITC.avg.loc[i+4, 1:3];\n",
    "    t, p = stats.ttest_ind(t1, t2)\n",
    "    print(p)\n",
    "\n",
    "YFP_color = get_YFP_color()\n",
    "for i in range(3):\n",
    "    c_YFP = next(YFP_color)\n",
    "    CL_barlist[i].set_color(c_YFP)\n",
    "    OL_barlist[i].set_color(c_YFP)\n",
    "    OL_barlist[i].set_hatch('/')\n",
    "\n",
    "ax.set_ylim([0, 15.0])\n",
    "ax.set_xticks(index + bar_width / 2)\n",
    "ax.spines['right'].set_visible(False)\n",
    "ax.spines['top'].set_visible(False)\n",
    "\n",
    "dest = datadir + 'pyfig\\\\' + date + '_precision'\n",
    "plt.savefig(dest + '.png', bbox_inches='tight',dpi=300)\n",
    "plt.savefig(dest + '.svg', bbox_inches='tight',dpi=300)\n",
    "\n",
    "plt.show()\n",
    "plt.close()"
   ]
  },
  {
   "cell_type": "code",
   "execution_count": 17,
   "metadata": {},
   "outputs": [
    {
     "data": {
      "image/png": "[encoded data removed]",
      "text/plain": [
       "<matplotlib.figure.Figure at 0x33872978>"
      ]
     },
     "metadata": {},
     "output_type": "display_data"
    }
   ],
   "source": [
    "# plot on log 10 scale output over time\n",
    "# rep 2\n",
    "fig, ax = plt.subplots(figsize = (2, 1.5))\n",
    "YFP_color = get_YFP_color()\n",
    "YFP_color_OL = get_YFP_color()\n",
    "\n",
    "for i in range(3):\n",
    "    c_YFP = next(YFP_color)\n",
    "    c_YFP_OL = next(YFP_color_OL)\n",
    "\n",
    "ms = 4\n",
    "lw = 1.5\n",
    "mew = 1\n",
    "cs = 2\n",
    "ct = 1\n",
    "\n",
    "for reactor_num in tot_reactors: \n",
    "    if reactor_num == 1:\n",
    "        ax.errorbar(t_cut, FITC_all.med.loc[reactor_num, 21:49], FITC_all.sd.loc[reactor_num, 21:49], elinewidth=1, \n",
    "                    linestyle='none', marker='o', markersize=ms, capsize=cs, capthick=ct, color = 'grey')\n",
    "        ax.plot(t_cut, FITC_all.ravg.loc[reactor_num, 21:49], label='_nolegend_', linewidth = lw, color='grey')\n",
    "\n",
    "    if reactor_num == 4:\n",
    "        c_YFP = next(YFP_color)\n",
    "        ax.errorbar(t_cut, FITC_all.med.loc[reactor_num, 21:49], FITC_all.sd.loc[reactor_num, 21:49], elinewidth=1, \n",
    "                    linestyle='none', marker='o', markersize=ms, capsize=cs, capthick=ct, color = c_YFP)\n",
    "        ax.plot(t_cut, FITC_all.ravg.loc[reactor_num, 21:49], label='_nolegend_', linewidth = lw, color=c_YFP)\n",
    "\n",
    "    if reactor_num == 5:\n",
    "        ax.errorbar(t_cut, FITC_all.med.loc[reactor_num, 21:49], FITC_all.sd.loc[reactor_num, 21:49], elinewidth=1, \n",
    "                    linestyle='none', marker='o', capsize=cs, capthick=ct, color = 'grey', markersize = ms, markeredgewidth=1, \n",
    "                    markerfacecolor = 'none', markeredgecolor='grey')\n",
    "        ax.plot(t_cut, FITC_all.ravg.loc[reactor_num, 21:49], label='_nolegend_', linewidth = lw, color='grey')\n",
    "\n",
    "    if reactor_num ==8: \n",
    "        c_YFP_OL = next(YFP_color_OL)\n",
    "        ax.errorbar(t_cut, FITC_all.med.loc[reactor_num, 21:49], FITC_all.sd.loc[reactor_num, 21:49], elinewidth=1, \n",
    "                    linestyle='none', marker='o', capsize=cs, capthick=ct, color = c_YFP_OL, markersize=ms, markeredgewidth=1, \n",
    "                    markerfacecolor = 'none', markeredgecolor=c_YFP_OL)\n",
    "        ax.plot(t_cut, FITC_all.ravg.loc[reactor_num, 21:49], label='_nolegend_', linewidth = lw, color=c_YFP_OL)\n",
    "\n",
    "#ax[0].set_ylabel('Normalized YFP')\n",
    "#ax[0].set_title('Closed loop') \n",
    "#ax[1].set_title('Open loop') \n",
    "\n",
    "ax.set_xticks(np.arange(-2, 12, step=2))\n",
    "ax.set_yscale('log')\n",
    "ax.legend(['Feedback: control','Feedback: high disturbance','No feedback: control','No feedback: high disturbance'],bbox_to_anchor=(1.05, 1), loc=2, borderaxespad=0.)\n",
    "\n",
    "ax.spines['right'].set_visible(False)\n",
    "ax.spines['top'].set_visible(False)\n",
    "#ax[i].set_xlabel('Time (hrs)')\n",
    "#ax.set_ylim([.18, 2.8])\n",
    "ax.set_xlim([-2.0, 10.3])\n",
    "\n",
    "dest = datadir + 'pyfig\\\\' + date + '_onlyHIdisturbance'\n",
    "plt.savefig(dest + '.png', bbox_inches='tight',dpi=300)\n",
    "plt.savefig(dest + '.svg', bbox_inches='tight',dpi=300)\n",
    "plt.show()\n",
    "plt.close()"
   ]
  },
  {
   "cell_type": "code",
   "execution_count": 89,
   "metadata": {},
   "outputs": [
    {
     "data": {
      "image/png": "[encoded data removed]",
      "text/plain": [
       "<matplotlib.figure.Figure at 0x1dbe1748>"
      ]
     },
     "metadata": {},
     "output_type": "display_data"
    }
   ],
   "source": [
    "# normalize CL and OL so that they are both at 1. at 1=0\n",
    "\n",
    "fig, ax = plt.subplots(figsize = (2.2, 1.7))\n",
    "YFP_color = get_YFP_color()\n",
    "YFP_color_OL = get_YFP_color()\n",
    "\n",
    "for i in range(3):\n",
    "    c_YFP = next(YFP_color)\n",
    "    c_YFP_OL = next(YFP_color_OL)\n",
    "\n",
    "#plot settings\n",
    "ms = 4; lw = 1.5; mew = 1; cs = 2; ct = 1;\n",
    "\n",
    "for reactor_num in tot_reactors: \n",
    "    if reactor_num == 1: # CL no disturbance\n",
    "        CL_ctrl = FITC_all.med.loc[reactor_num, 24];\n",
    "        CL_ctrl_norm = CL_ctrl/CL_ctrl;\n",
    "        ax.plot(t[1:25], np.ones(len(t[1:25]))*CL_ctrl_norm, ':', color='black',label='_nolegend_');\n",
    "\n",
    "    if reactor_num == 4: # CL disturbance\n",
    "        c_YFP = next(YFP_color);\n",
    "        ax.errorbar(t_cut, (FITC_all.med.loc[reactor_num, 21:49]/CL_ctrl), (FITC_all.sd.loc[reactor_num, 21:49]/CL_ctrl), \n",
    "                    elinewidth=1, \n",
    "                    linestyle='none', marker='o', markersize=ms, capsize=cs, capthick=ct, color = c_YFP)\n",
    "        ax.plot(t_cut, (FITC_all.ravg.loc[reactor_num, 21:49]/CL_ctrl), \n",
    "                label='_nolegend_', linewidth = lw, color=c_YFP)\n",
    "\n",
    "    if reactor_num == 5: # OL no disturbance\n",
    "        OL_ctrl = FITC_all.med.loc[reactor_num, 24];\n",
    "        OL_ctrl_norm = OL_ctrl/OL_ctrl;\n",
    "    #    ax.plot(t_cut, np.ones(len(t_cut))*OL_ctrl_norm, ':', color='black',label='_nolegend_');\n",
    "\n",
    "    if reactor_num ==8: # OL disturbance\n",
    "        ax.errorbar(t_cut, FITC_all.med.loc[reactor_num, 21:49]/OL_ctrl, FITC_all.sd.loc[reactor_num, 21:49]/OL_ctrl, elinewidth=1, \n",
    "                    linestyle='none', marker='o', capsize=cs, capthick=ct, color = 'grey', markersize=ms, markeredgewidth=1, \n",
    "                    markerfacecolor = 'none', markeredgecolor='grey')\n",
    "        ax.plot(t_cut, FITC_all.ravg.loc[reactor_num, 21:49]/OL_ctrl, label='_nolegend_', linewidth = lw, color='grey')\n",
    "\n",
    "ax.set_xticks(np.arange(-2, 12, step=2))\n",
    "#ax.set_yscale('log')\n",
    "\n",
    "ax.spines['right'].set_visible(False)\n",
    "ax.spines['top'].set_visible(False)\n",
    "ax.set_ylim([.8, 4.5])\n",
    "ax.set_xlim([-2.0, 10.3])\n",
    "\n",
    "dest = datadir + 'pyfig\\\\' + date + '_onlyHIdisturbance_normalized'\n",
    "plt.savefig(dest + '.png', bbox_inches='tight',dpi=300)\n",
    "plt.savefig(dest + '.svg', bbox_inches='tight',dpi=300)\n",
    "plt.show()\n",
    "plt.close()"
   ]
  }
 ],
 "metadata": {
  "kernelspec": {
   "display_name": "Python 2",
   "language": "python",
   "name": "python2"
  },
  "language_info": {
   "codemirror_mode": {
    "name": "ipython",
    "version": 2
   },
   "file_extension": ".py",
   "mimetype": "text/x-python",
   "name": "python",
   "nbconvert_exporter": "python",
   "pygments_lexer": "ipython2",
   "version": "2.7.13"
  }
 },
 "nbformat": 4,
 "nbformat_minor": 2
}
